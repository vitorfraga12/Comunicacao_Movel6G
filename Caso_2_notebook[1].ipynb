{
 "cells": [
  {
   "cell_type": "code",
   "execution_count": 1,
   "metadata": {},
   "outputs": [],
   "source": [
    "import numpy as np\n",
    "import matplotlib.pyplot as plt\n",
    "\n",
    "# Função que gera as coordenadas dos APs\n",
    "def distribuir_APs(num_aps):\n",
    "    '''Distributes Access Points (APs) evenly within a square area.\n",
    "    \n",
    "    Parameters:\n",
    "    num_aps (int): The number of APs to distribute. Must be a perfect square.\n",
    "    \n",
    "    Returns:\n",
    "    np.array: An array of coordinates for the APs, or None if num_aps is not a perfect square.'''\n",
    "    \n",
    "    if num_aps not in [1, 4, 9, 16, 25, 36, 49, 64, 100]:\n",
    "        return None\n",
    "\n",
    "    tamanho_quadrado = 400\n",
    "    lado_quadrado = int(np.sqrt(num_aps))\n",
    "\n",
    "    tamanho_celula = tamanho_quadrado // lado_quadrado\n",
    "\n",
    "    # Criar coordenadas usando meshgrid\n",
    "    x, y = np.meshgrid(np.arange(0.5 * tamanho_celula, tamanho_quadrado, tamanho_celula),\n",
    "                      np.arange(0.5 * tamanho_celula, tamanho_quadrado, tamanho_celula))\n",
    "\n",
    "    coordenadas_APs = np.column_stack((x.ravel(), y.ravel()))\n",
    "\n",
    "    return coordenadas_APs"
   ]
  },
  {
   "cell_type": "code",
   "execution_count": 2,
   "metadata": {},
   "outputs": [],
   "source": [
    "def ue_moviment(velocity, steps):\n",
    "    '''Moves a User Equipment (UE) in a given direction at a given speed.\n",
    "    \n",
    "    Parameters:\n",
    "    velocity (float): The speed at which the UE is moving in meters per second.\n",
    "    steps (int): The number of steps to move the UE.\n",
    "    \n",
    "    Returns:\n",
    "    np.array: The new coordinates of the UE.'''\n",
    "    \n",
    "    theta = np.linspace(0, 2*np.pi, 720)\n",
    "    x_coord = []\n",
    "    y_coord = []    \n",
    "    #Considerando que cada iteração corresponde a 1ms e que a velocidade é dada em m/s iremos fazer a conversão:\n",
    "    \n",
    "    x, y = 0, 0\n",
    "\n",
    "    for iterations in range(steps):\n",
    "        # After the UE walk 10meters, it changes its position:\n",
    "        if iterations % 1000 == 0 and iterations != 0:\n",
    "            x = np.random.randint(0, 400)\n",
    "            y = np.random.randint(0, 400)\n",
    "            \n",
    "\n",
    "        angle = np.random.choice(theta)\n",
    "        x += velocity * np.cos(angle)\n",
    "        y += velocity * np.sin(angle)\n",
    "\n",
    "        if x > 400:\n",
    "            x = 400\n",
    "        elif x < 0:\n",
    "            x = 0\n",
    "\n",
    "        if y > 400:\n",
    "            y = 400\n",
    "        elif y < 0:\n",
    "            y = 0\n",
    "        x_coord.append(x)\n",
    "        y_coord.append(y)\n",
    "\n",
    "\n",
    "    return x_coord, y_coord"
   ]
  },
  {
   "cell_type": "code",
   "execution_count": 3,
   "metadata": {},
   "outputs": [],
   "source": [
    "#Função que transforma Linear para dB\n",
    "def lin2db(x):\n",
    "    return 10 * np.log10(x)\n",
    "\n",
    "#Função que transforma dB para Linear\n",
    "def db2lin(x):\n",
    "    return 10 ** (x / 10)"
   ]
  },
  {
   "cell_type": "code",
   "execution_count": 4,
   "metadata": {},
   "outputs": [],
   "source": [
    "# Função que gera a distância entre a UE e a AP\n",
    "def dAPUE(x_coord, y_coord, ap_coord):\n",
    "  '''Calculate the Euclidean distance between a user equipment (UE) and an access point (AP).\n",
    "    \n",
    "    Parameters:\n",
    "    ue_coords (tuple): A tuple (x_coord, y_coord) representing the coordinates of the UE.\n",
    "    ap_coords (np.array): An array containing the coordinates of the APs.\n",
    "    \n",
    "    Returns:\n",
    "    float: The Euclidean distance between the UE and the AP.\n",
    "  '''\n",
    "  dAPUE = np.linalg.norm(np.array([x_coord, y_coord]) - ap_coord)\n",
    "  return dAPUE"
   ]
  },
  {
   "cell_type": "code",
   "execution_count": 5,
   "metadata": {},
   "outputs": [],
   "source": [
    "#Função que define o shadowing e muda ele a cada 10 passos\n",
    "def find_shadowing(passos):\n",
    "    '''Generate shadowing values that change every 10 steps based on a log-normal distribution.\n",
    "\n",
    "    Parameters:\n",
    "    num_steps (int): The number of steps for which shadowing values are needed.\n",
    "\n",
    "    Returns:\n",
    "    list: A list of shading values for each step, changing every 10 steps.'''\n",
    "    shadowing = []\n",
    "\n",
    "    valor_atual = np.random.normal(0, 2)  # Inicializa o shadowing com sigma = 2 [LINEAR]\n",
    "    for i in range(passos):\n",
    "        if (i) % 100 == 0 and i != 0:  # Atualiza o shadowing a cada 100 passos, exceto no passo 0\n",
    "            valor_atual = np.random.normal(0, 2)\n",
    "        shadowing.append(valor_atual)  # Adiciona o valor atual à lista\n",
    "    return shadowing "
   ]
  },
  {
   "cell_type": "code",
   "execution_count": 6,
   "metadata": {},
   "outputs": [],
   "source": [
    "# Função que calcula o path gain\n",
    "def find_path_gain(dist, shadowing):\n",
    "    ''' Calculate the path gain for a given distance and shadowing value.\n",
    "\n",
    "    Parameters:\n",
    "    distance (float): The distance from the transmitter to the receiver.\n",
    "    shadowing (float): The shadowing effect value, typically a multiplier derived from a log-normal distribution.\n",
    "\n",
    "    Returns:\n",
    "    float: The path gain calculated using the given distance and shadowing effects.'''\n",
    "    beta = (30.5 + 36.7*np.log10(dist/1)) # dB\n",
    "\n",
    "    path_gain = shadowing + beta # dB \n",
    "\n",
    "    path_gain_result = np.sqrt(db2lin(-path_gain)) # [LINEAR]\n",
    "\n",
    "    return path_gain_result # [LINEAR]"
   ]
  },
  {
   "cell_type": "code",
   "execution_count": 7,
   "metadata": {},
   "outputs": [],
   "source": [
    "# Função que calcula a potência recebida\n",
    "def find_pot_rec(pot_trans, dist, d_0, shadowing):\n",
    "    ''''Calculate the received power from a transmitter to a receiver based on the distance, \n",
    "    transmission power, and shadowing effect.\n",
    "\n",
    "    Parameters:\n",
    "    pot_trans (float): The transmission power.\n",
    "    dist (float): The distance from the transmitter to the receiver.\n",
    "    d_0 (float): The threshold distance below which the power calculation does not occur.\n",
    "    shadowing (float): The shadowing effect, modifying the power based on environmental factors.\n",
    "\n",
    "    Returns:\n",
    "    float: The received power if distance is above the threshold; otherwise, returns zero.'''\n",
    "    \n",
    "    beta = (30.5 + 36.7*np.log10(dist/1)) # dB\n",
    "\n",
    "    if dist >= d_0:\n",
    "        path_gain = shadowing + beta\n",
    "        path_gain_result = np.sqrt(db2lin(-path_gain))\n",
    "        pot_rec_result = path_gain_result * pot_trans # Obtem a potência recebida de cada AP\n",
    "    else:\n",
    "        pot_rec_result = 0\n",
    "\n",
    "    return pot_rec_result # [LINEAR]"
   ]
  },
  {
   "cell_type": "code",
   "execution_count": 8,
   "metadata": {},
   "outputs": [],
   "source": [
    "def calculate_snr(B_t, p_t, d_0, K_0, M, N, passos, shadowing, cluster, x_coord, y_coord):\n",
    "    '''Calculate the Signal-to-Noise Ratio (SNR) as a user equipment moves through a given path.\n",
    "\n",
    "    Parameters:\n",
    "    B_t (float): Total bandwidth.\n",
    "    p_t (float): Transmit power.\n",
    "    d_0 (float): Minimum distance for power calculation.\n",
    "    K_0 (float): Noise figure (or power of the noise).\n",
    "    M (int): Number of Access Points (APs).\n",
    "    N (int): Number of channels.\n",
    "    passos (int): Number of steps in the simulation.\n",
    "    shadowing (list): List of shadowing values affecting signal quality.\n",
    "    cluster (int): Number of APs considered in the calculation of SNR.\n",
    "    x_coord (list): List of x-coordinates for the UE.\n",
    "    y_coord (list): List of y-coordinates for the UE.\n",
    "\n",
    "    Returns:\n",
    "    list: A list of SNR values for each step in the simulation.'''\n",
    "\n",
    "    #Definindo váriaveis locais\n",
    "    ap_coord = distribuir_APs(M) # Coordenadas dos APs\n",
    "    power_noise = K_0*(B_t/N) # Potência do ruído\n",
    "    distance = np.zeros(M) # Vetor de distâncias\n",
    "    path_gain = np.zeros(M) # Vetor de path gain\n",
    "    power_rec = np.zeros(passos) # Vetor de potência recebida\n",
    "    snr = np.zeros(cluster) # Vetor de SNR\n",
    "    snr_final = [] # Lista de SNR final\n",
    "    masterap = -1 # AP Master\n",
    "    changes = -1 # Contador de mudanças\n",
    "    \n",
    "    #Fazendo o Handover\n",
    "    for passo in range(passos):\n",
    "        for index_AP in range(M):\n",
    "            distance[index_AP] = dAPUE(x_coord[passo], y_coord[passo], ap_coord[index_AP]) # Calcula a distância entre a UE e o AP\n",
    "            path_gain[index_AP] = find_path_gain(distance[index_AP], shadowing[passo]) # Calcula o path gain para cada AP em cada momento \n",
    "\n",
    "        max_index = np.argsort(path_gain)[-cluster:][::-1] # Ordena os APs pelo path gain e pega os cluster melhores\n",
    "\n",
    "        if masterap not in max_index:  # Se o Master AP não está mais no cluster\n",
    "            masterap = max_index[0]  # Atualiza o Master AP\n",
    "            changes += 1  # Incrementa o contador de mudanças\n",
    "\n",
    "        for clust in range(len(max_index) ):\n",
    "            indice = max_index[clust]\n",
    "            power_rec[clust] = find_pot_rec(p_t, distance[indice], d_0, shadowing[passo]) # Calcula a potência recebida para cada AP no cluster\n",
    "            snr[clust] = power_rec[clust]/power_noise # Calcula o SNR para cada AP no cluster\n",
    "        snr_sum = np.sum(snr) # Soma os SNRs de todos os APs no cluster\n",
    "        snr_final.append(snr_sum) # Adiciona o SNR final à lista\n",
    "\n",
    "\n",
    "    return snr_final, changes"
   ]
  },
  {
   "cell_type": "code",
   "execution_count": 9,
   "metadata": {},
   "outputs": [],
   "source": [
    "def calculate_snr_acom(B_t, p_t, d_0, K_0, M, N, passos, shadowing, x_coord, y_coord):\n",
    "    '''Calculate the Signal-to-Noise Ratio (SNR) as a user equipment moves through a given path.\n",
    "\n",
    "    Parameters:\n",
    "    B_t (float): Total bandwidth.\n",
    "    p_t (float): Transmit power.\n",
    "    d_0 (float): Minimum distance for power calculation.\n",
    "    K_0 (float): Noise figure (or power of the noise).\n",
    "    M (int): Number of Access Points (APs).\n",
    "    N (int): Number of channels.\n",
    "    passos (int): Number of steps in the simulation.\n",
    "    shadowing (list): List of shadowing values affecting signal quality.\n",
    "    x_coord (list): List of x-coordinates for the UE.\n",
    "    y_coord (list): List of y-coordinates for the UE.\n",
    "\n",
    "    Returns:\n",
    "    list: A list of SNR values for each step in the simulation.'''\n",
    "\n",
    "    #Definindo váriaveis locais\n",
    "    ap_coord = distribuir_APs(M)\n",
    "    power_noise = K_0*(B_t/N)\n",
    "    distance = np.zeros(M)\n",
    "    path_gain = np.zeros(M)\n",
    "    power_rec = np.zeros(passos)\n",
    "    snr = np.zeros(M)\n",
    "    snr_final = []\n",
    "    ci = 0\n",
    "    ci_values = []  # Lista para armazenar os valores de ci~\n",
    "    masterap = -1\n",
    "    changes = -1\n",
    "    \n",
    "    #Fazendo o Handover\n",
    "    for passo in range(passos):\n",
    "        for index_AP in range(M):\n",
    "            distance[index_AP] = dAPUE(x_coord[passo], y_coord[passo], ap_coord[index_AP]) # Calcula a distância da UE para cada AP\n",
    "            path_gain[index_AP] = find_path_gain(distance[index_AP], shadowing[passo]) # Calcula o path gain para cada AP\n",
    "            while ci < len(path_gain) - 1 and path_gain[ci] <= path_gain[ci+1]: \n",
    "                ci += 1\n",
    "        ci_values.append(ci)  # Adicionando o valor de ci à lista\n",
    "        max_index = np.argsort(path_gain)[-ci:][::-1]\n",
    "\n",
    "        if masterap not in max_index:  # Se o Master AP não está mais no cluster\n",
    "            masterap = max_index[0]  # Atualiza o Master AP\n",
    "            changes += 1  # Incrementa o contador de mudanças\n",
    "\n",
    "        for clust in range(len(max_index) ):\n",
    "            indice = max_index[clust]\n",
    "            power_rec[clust] = find_pot_rec(p_t, distance[indice], d_0, shadowing[passo])\n",
    "            snr[clust] = power_rec[clust]/power_noise\n",
    "        snr_sum = np.sum(snr)\n",
    "        snr_final.append(snr_sum)\n",
    "        ci = 0\n",
    "\n",
    "    return snr_final, ci_values, changes"
   ]
  },
  {
   "cell_type": "code",
   "execution_count": 10,
   "metadata": {},
   "outputs": [],
   "source": [
    "def max_cluster_number (M, passos, shadowing, x_coord, y_coord, velocity):\n",
    "    '''Determines the maximum number of APs in a cluster based on path gain.\n",
    "    \n",
    "    Parameters:\n",
    "    M (int): Number of Access Points (APs).\n",
    "    passos (int): Number of simulation steps (distance steps).\n",
    "    shadowing (list): List of shadowing values for each step.\n",
    "    velocity (float): Speed at which the user equipment moves.\n",
    "    \n",
    "    Returns:\n",
    "    int: The step index where path gains stop increasing consistently.'''\n",
    "    x_coord, y_coord = ue_moviment(velocity, passos)    \n",
    "\n",
    "    #Definindo váriaveis locais\n",
    "    ap_coord = distribuir_APs(M)\n",
    "    distance = np.zeros(M)\n",
    "    path_gain = np.zeros(M)\n",
    "    ci = 0\n",
    "    \n",
    "    #Fazendo o Handover\n",
    "    for passo in range(passos):\n",
    "        for index_AP in range(M):\n",
    "            distance[index_AP] = dAPUE(x_coord[passo], y_coord[passo], ap_coord[index_AP])\n",
    "            path_gain[index_AP] = find_path_gain(distance[index_AP], shadowing[passo])\n",
    "        while ci < len(path_gain) and path_gain[ci] <= path_gain[ci+1]:\n",
    "            ci += 1\n",
    "\n",
    "    return ci"
   ]
  },
  {
   "cell_type": "code",
   "execution_count": 11,
   "metadata": {},
   "outputs": [],
   "source": [
    "def find_masterap(M, passos, shadowing, cluster, x_coord, y_coord): \n",
    "\n",
    "    #Definindo váriaveis locais\n",
    "    ap_coord = distribuir_APs(M)\n",
    "    distance = np.zeros(M)\n",
    "    path_gain = np.zeros(M)\n",
    "\n",
    "    \n",
    "    masterap = -1  \n",
    "    changes = -1 \n",
    "\n",
    "    # Fazendo o Handover\n",
    "    for passo in range(passos):\n",
    "        for index_AP in range(M):\n",
    "            distance[index_AP] = dAPUE(x_coord[passo], y_coord[passo], ap_coord[index_AP])\n",
    "            path_gain[index_AP] = find_path_gain(distance[index_AP], shadowing[passo])\n",
    "        max_index = np.argsort(path_gain)[-cluster:][::-1]\n",
    "        if masterap not in max_index:  # Se o Master AP não está mais no cluster\n",
    "            masterap = max_index[0]  # Atualiza o Master AP\n",
    "            changes += 1  # Incrementa o contador de mudanças\n",
    "\n",
    "    return changes"
   ]
  },
  {
   "cell_type": "code",
   "execution_count": 12,
   "metadata": {},
   "outputs": [],
   "source": [
    "def calculate_capacity(B_t, p_t, d_0, K, M, N, passos, shadowing, cluster):\n",
    "    ''' Calculates the channel capacity over a number of steps in a simulation.\n",
    "\n",
    "    Parameters:\n",
    "    B_t (float): Total bandwidth available.\n",
    "    p_t (float): Transmit power of the source.\n",
    "    d_0 (float): Reference distance for the path loss calculations.\n",
    "    K (float): Noise figure or noise power.\n",
    "    M (int): Number of Access Points.\n",
    "    N (int): Number of channels.\n",
    "    passos (int): Number of steps or points in the simulation.\n",
    "    shadowing (list): Shadowing effects at each step.\n",
    "    cluster (int): Number of APs considered in the cluster for SNR calculations.\n",
    "\n",
    "    Returns:\n",
    "    np.array: An array of capacity values for each step in the simulation.'''\n",
    "    \n",
    "    snr= calculate_snr(B_t, p_t, d_0, K, M, N, passos, shadowing, cluster)\n",
    "    B_c = B_t/N\n",
    "    capacity = np.zeros(passos)\n",
    "    for i in range(passos):\n",
    "        capacity[i] = B_c * np.log2(1 + snr[i])\n",
    "        \n",
    "    return capacity\n"
   ]
  },
  {
   "cell_type": "code",
   "execution_count": 13,
   "metadata": {},
   "outputs": [],
   "source": [
    "B_t, p_t, d_0, K_0 = 100e6, 1e-3, 1, 1e-17 # Em MHz, mW, metros, mW/Hz respectivamente\n",
    "ap, ue, channel = 64, 1, 1\n",
    "passos = 400000 # Definido já que a UE irá se mover a cada 10cm\n",
    "velocity = 0.01 # Velocidade de 10 m/s considerando que cada iteração é equivalente a 10ms\n",
    "shadow = find_shadowing(passos) # Definindo o shadowing que se altera para cada 10m\n",
    "x_coord, y_coord = ue_moviment(velocity, passos) # Movimentando a UE\n",
    "passos_array = np.arange(passos)"
   ]
  },
  {
   "cell_type": "code",
   "execution_count": 14,
   "metadata": {},
   "outputs": [
    {
     "name": "stderr",
     "output_type": "stream",
     "text": [
      "C:\\Users\\joaov\\AppData\\Local\\Temp\\ipykernel_66904\\2208342905.py:3: RuntimeWarning: divide by zero encountered in log10\n",
      "  return 10 * np.log10(x)\n"
     ]
    }
   ],
   "source": [
    "cluster1, cluster2, cluster3 = 1, 9, 100 # Informa com quantas APs a UE irá se comunicar  (Handover)\n",
    "snr1, master1 = calculate_snr(B_t, p_t, d_0, K_0, ap, channel, passos, shadow, cluster1, x_coord, y_coord)\n",
    "snr3, master3 = calculate_snr(B_t, p_t, d_0, K_0, ap, channel, passos, shadow, cluster3, x_coord, y_coord)\n",
    "snr4, cc, master4 = calculate_snr_acom(B_t, p_t, d_0, K_0, ap, channel, passos, shadow, x_coord, y_coord)\n",
    "\n",
    "\n",
    "snr1 = lin2db(snr1)\n",
    "snr3 = lin2db(snr3)\n",
    "snr4 = lin2db(snr4)\n",
    "\n",
    "\n",
    "\n",
    "cdf_snr1 = np.sort(snr1)\n",
    "cdf_snr3 = np.sort(snr3)\n",
    "cdf_snr4 = np.sort(snr4)\n",
    "\n"
   ]
  },
  {
   "cell_type": "code",
   "execution_count": 77,
   "metadata": {},
   "outputs": [
    {
     "data": {
      "image/png": "[encoded data removed]",
      "text/plain": [
       "<Figure size 640x480 with 1 Axes>"
      ]
     },
     "metadata": {},
     "output_type": "display_data"
    }
   ],
   "source": [
    "# Plotando a SNR pela distância percorrida\n",
    "'''plt.plot(passos_array, snr1, label=f'Cluster {cluster1}')\n",
    "plt.plot(passos_array, snr2, label=f'Cluster {cluster2}')\n",
    "plt.plot(passos_array, snr3, label=f'Cluster {cluster3}')\n",
    "plt.plot(passos_array, snr4, label='Cluster Varíavel')\n",
    "plt.legend()\n",
    "plt.xlabel('Steps')\n",
    "plt.ylabel('SNR [dB]')\n",
    "plt.title('SNR of Cell-Free Network')\n",
    "plt.grid()\n",
    "#plt.savefig('snr.png')\n",
    "plt.show()'''\n",
    "\n",
    "# Plotando a CDF da SNR\n",
    "plt.plot(cdf_snr1, np.arange(0, len(snr1)) / len(snr1), label='$c = 1$')\n",
    "#plt.plot(cdf_snr2, np.arange(0, len(snr2)) / len(snr2), label=f'Cluster {cluster2}')\n",
    "plt.plot(cdf_snr3, np.arange(0, len(snr3)) / len(snr3), label= '$c = 100$ ')\n",
    "plt.plot(cdf_snr4, np.arange(0, len(snr4)) / len(snr4), label='$c = \\mu$ ')\n",
    "plt.legend()\n",
    "plt.xlabel('SNR [dB]')\n",
    "plt.ylabel('Percentage')\n",
    "#plt.title('SNR CDF of Cell-Free Network')\n",
    "plt.grid()\n",
    "\n",
    "plt.axhline(y=0.05, xmin = 0.009, xmax = 0.64 ,color='k', linestyle='dotted', )\n",
    "\n",
    "# Adicionando rótulo \"95% likely\"\n",
    "plt.text(0.62, 0.13, '95% likely', color='k', va='center', ha='right', transform=plt.gca().transAxes)\n",
    "\n",
    "plt.savefig('cdf_snr.pdf')\n",
    "plt.show()"
   ]
  },
  {
   "cell_type": "code",
   "execution_count": 16,
   "metadata": {},
   "outputs": [
    {
     "name": "stdout",
     "output_type": "stream",
     "text": [
      "A moda do cluster variável é: 3\n",
      "3.5673\n",
      "4.0\n"
     ]
    }
   ],
   "source": [
    "# Falando qual a moda do cluster variavel\n",
    "import statistics\n",
    "moda_cluster = statistics.mode(cc)\n",
    "print(f'A moda do cluster variável é: {moda_cluster}')\n",
    "print(np.mean(cc))\n",
    "print(np.median(cc))"
   ]
  },
  {
   "cell_type": "code",
   "execution_count": 32,
   "metadata": {},
   "outputs": [
    {
     "name": "stdout",
     "output_type": "stream",
     "text": [
      "0.5566161062731005\n",
      "26.73309645976832\n",
      "25.904252987047656\n"
     ]
    }
   ],
   "source": [
    "# A diferença no quinto percentil entre o cluster de 100 APs e o cluster variável\n",
    "#x_variable[int(x_variable.size*0.05)] - x_const[int(x_const.size*0.05)]\n",
    "\n",
    "diferenca = (snr3[int(snr3.size*0.5)]) - (snr4[int(snr4.size*0.5)])\n",
    "\n",
    "print(diferenca)\n",
    "print(snr3[int(snr3.size*0.05)])\n",
    "print(snr4[int(snr4.size*0.05)])"
   ]
  },
  {
   "cell_type": "code",
   "execution_count": 18,
   "metadata": {},
   "outputs": [],
   "source": [
    "'''clustermaster1, clustermaster2, clustermaster3 = 1, 9, 100\n",
    "master1 = find_masterap(ap, passos, shadow, clustermaster1, x_coord, y_coord)\n",
    "master2 = find_masterap(ap, passos, shadow, clustermaster2, x_coord, y_coord)\n",
    "master3 = find_masterap(ap, passos, shadow, clustermaster3, x_coord, y_coord)\n",
    "'''\n",
    "#Já que cada passo equivale a 10ms e a velocidade é de 10m/s, temos que fazer o tempo\n",
    "time = 400\n",
    "\n",
    "\n",
    "# Transformando em mudanças por segundo\n",
    "master1 = master1 / time\n",
    "master4 = master4 / time\n",
    "master3 = master3 / time\n",
    "#master4 = master4 / time"
   ]
  },
  {
   "cell_type": "code",
   "execution_count": 26,
   "metadata": {},
   "outputs": [
    {
     "data": {
      "image/png": "[encoded data removed]",
      "text/plain": [
       "<Figure size 640x480 with 1 Axes>"
      ]
     },
     "metadata": {},
     "output_type": "display_data"
    },
    {
     "name": "stdout",
     "output_type": "stream",
     "text": [
      "1.79 0.97 0.0\n"
     ]
    }
   ],
   "source": [
    "fig, ax = plt.subplots()\n",
    "diff1_4 = ((master4 - master1) / master1) * 100\n",
    "\n",
    "\n",
    "# Posições das barras\n",
    "xs = np.arange(3)\n",
    "\n",
    "# Plotando as barras\n",
    "ax.bar(0, master1, width=0.5, color='b', edgecolor=\"white\", linewidth=0.5)\n",
    "ax.bar(1, master4, width=0.5, color='r', edgecolor=\"white\", linewidth=0.5)\n",
    "ax.bar(2, master3, width=0.5, color='y', edgecolor=\"white\", linewidth=0.5)\n",
    "#ax.bar(3, master4, width=0.5, color='g', edgecolor=\"white\", linewidth=0.5)\n",
    "\n",
    "# Adicionando linhas pontilhadas e rótulos\n",
    "for x, y in zip(xs, [master1, master4, master3]):\n",
    "    ax.hlines(y, xmin=x, xmax=len(xs) - 0.5, linestyle='dotted', color='black')\n",
    "    ax.text(x, y, str(y), ha='center', va='bottom')\n",
    "\n",
    "ax.annotate('', xy=(1.5, master1), xytext=(1.5, master4),\n",
    "            arrowprops=dict(arrowstyle='<->', color='black'))\n",
    "ax.text(1.6, (master1 + master4) / 2, f'{-diff1_4:.1f}%', ha='left', va='center')\n",
    "\n",
    "\n",
    "x_labels = [\"$c = 1$\", \"$c = \\mu$\", \"$c = 100$\"]\n",
    "\n",
    "# Configurando os rótulos dos eixos e título\n",
    "ax.set_xlabel(\"Number of APs in Cluster\")\n",
    "ax.set_ylabel(\"Number of Master AP Changes per Second\")\n",
    "ax.set_xticks(np.arange(len(x_labels)))\n",
    "ax.set_xticklabels(x_labels)\n",
    "\n",
    "plt.savefig('masterap.pdf')\n",
    "# Mostrando o gráfico\n",
    "plt.show()\n",
    "\n",
    "print(master1, master4, master3)"
   ]
  },
  {
   "cell_type": "code",
   "execution_count": 20,
   "metadata": {},
   "outputs": [
    {
     "name": "stdout",
     "output_type": "stream",
     "text": [
      "0.541899441340782\n"
     ]
    }
   ],
   "source": [
    "#Para definir quantos porcento do tempo a UE passa em cada AP do primeiro cenario para o segundo\n",
    "print(master4/master1)"
   ]
  },
  {
   "cell_type": "code",
   "execution_count": 21,
   "metadata": {},
   "outputs": [
    {
     "data": {
      "text/plain": [
       "\"import matplotlib.pyplot as plt\\n\\n# Suponha que distribuir_APs() retorne uma lista de coordenadas das APs\\naps = distribuir_APs(100)\\n\\n# Coordenadas iniciais da UE\\nue = (10, 10)\\n\\n# Cria um novo gráfico\\nfig, ax = plt.subplots()\\n\\n# Plota as APs como triângulos azuis\\nax.scatter(*zip(*aps), color='blue', marker='^', label='AP')\\n\\n# Plota a posição inicial da UE como uma bola vermelha\\nax.scatter(*ue, color='red', label='UE')\\n\\n# Adiciona a legenda\\nax.legend()\\n\\n# Define os limites do gráfico\\nax.set_xlim(0, 1000)\\nax.set_ylim(0, 1000)\\n#plt.title('Position of APs and UE')\\nplt.xlabel('x-axis [m]')\\nplt.ylabel('y-axis [m]')\\nplt.grid()\\nplt.savefig('position.pdf')\\n# Mostra o gráfico\\nplt.show()\""
      ]
     },
     "execution_count": 21,
     "metadata": {},
     "output_type": "execute_result"
    }
   ],
   "source": [
    "'''import matplotlib.pyplot as plt\n",
    "\n",
    "# Suponha que distribuir_APs() retorne uma lista de coordenadas das APs\n",
    "aps = distribuir_APs(100)\n",
    "\n",
    "# Coordenadas iniciais da UE\n",
    "ue = (10, 10)\n",
    "\n",
    "# Cria um novo gráfico\n",
    "fig, ax = plt.subplots()\n",
    "\n",
    "# Plota as APs como triângulos azuis\n",
    "ax.scatter(*zip(*aps), color='blue', marker='^', label='AP')\n",
    "\n",
    "# Plota a posição inicial da UE como uma bola vermelha\n",
    "ax.scatter(*ue, color='red', label='UE')\n",
    "\n",
    "# Adiciona a legenda\n",
    "ax.legend()\n",
    "\n",
    "# Define os limites do gráfico\n",
    "ax.set_xlim(0, 1000)\n",
    "ax.set_ylim(0, 1000)\n",
    "#plt.title('Position of APs and UE')\n",
    "plt.xlabel('x-axis [m]')\n",
    "plt.ylabel('y-axis [m]')\n",
    "plt.grid()\n",
    "plt.savefig('position.pdf')\n",
    "# Mostra o gráfico\n",
    "plt.show()'''"
   ]
  },
  {
   "cell_type": "code",
   "execution_count": 22,
   "metadata": {},
   "outputs": [
    {
     "data": {
      "text/plain": [
       "'a = max_cluster_number(100, passos, shadow, x_coord, y_coord, velocity)\\nprint(a)'"
      ]
     },
     "execution_count": 22,
     "metadata": {},
     "output_type": "execute_result"
    }
   ],
   "source": [
    "'''a = max_cluster_number(100, passos, shadow, x_coord, y_coord, velocity)\n",
    "print(a)'''"
   ]
  },
  {
   "cell_type": "code",
   "execution_count": 23,
   "metadata": {},
   "outputs": [
    {
     "data": {
      "text/plain": [
       "'def plot_pathgain(B_t, p_t, d_0, K_0, M, N, passos, shadowing):\\n    #UE irá se mover metro por metro e irá iniciar do ponto (0, 500) e irá até (1000, 500)\\n    x_coord = np.zeros(passos)\\n    y_coord = np.zeros(passos)\\n    for passo in range (passos):\\n        x_coord[passo] = (passo+1)\\n        y_coord[passo] = 500 \\n\\n    #Definindo váriaveis locais\\n    ap_coord = distribuir_APs(M)\\n    power_noise = K_0*(B_t/N)\\n    distance = np.zeros(M)\\n    path_gain = np.zeros(M)\\n    power_rec = np.zeros(passos)\\n    \\n    #Fazendo o Handover\\n    for passo in range(passos):\\n        for index_AP in range(M):\\n            distance[index_AP] = dAPUE(x_coord[passo], y_coord[passo], ap_coord[index_AP])\\n            path_gain[index_AP] = find_path_gain(distance[index_AP], shadowing[passo])\\n       \\n    return path_gain'"
      ]
     },
     "execution_count": 23,
     "metadata": {},
     "output_type": "execute_result"
    }
   ],
   "source": [
    "'''def plot_pathgain(B_t, p_t, d_0, K_0, M, N, passos, shadowing):\n",
    "    #UE irá se mover metro por metro e irá iniciar do ponto (0, 500) e irá até (1000, 500)\n",
    "    x_coord = np.zeros(passos)\n",
    "    y_coord = np.zeros(passos)\n",
    "    for passo in range (passos):\n",
    "        x_coord[passo] = (passo+1)\n",
    "        y_coord[passo] = 500 \n",
    "\n",
    "    #Definindo váriaveis locais\n",
    "    ap_coord = distribuir_APs(M)\n",
    "    power_noise = K_0*(B_t/N)\n",
    "    distance = np.zeros(M)\n",
    "    path_gain = np.zeros(M)\n",
    "    power_rec = np.zeros(passos)\n",
    "    \n",
    "    #Fazendo o Handover\n",
    "    for passo in range(passos):\n",
    "        for index_AP in range(M):\n",
    "            distance[index_AP] = dAPUE(x_coord[passo], y_coord[passo], ap_coord[index_AP])\n",
    "            path_gain[index_AP] = find_path_gain(distance[index_AP], shadowing[passo])\n",
    "       \n",
    "    return path_gain'''"
   ]
  },
  {
   "cell_type": "code",
   "execution_count": 24,
   "metadata": {},
   "outputs": [
    {
     "data": {
      "text/plain": [
       "\"import matplotlib.pyplot as plt\\nimport numpy as np\\nimport imageio\\n\\n# Suponha que distribuir_APs() retorne uma lista de coordenadas das APs\\naps = distribuir_APs(100)\\n\\n# Cria uma lista para armazenar os quadros\\nframes = []\\n\\n# Calcula as coordenadas do usuário uma vez antes do loop\\n\\nfor passo in range(1000):\\n    # Cria um novo gráfico\\n    fig, ax = plt.subplots()\\n\\n    # Plota as APs como triângulos azuis apontando para cima\\n    ax.scatter(*zip(*aps), color='blue', marker='^', label='triângulo azul - AP')\\n\\n    # Plota a posição atual do usuário como uma bola vermelha\\n    ax.scatter(x_coord[passo], y_coord[passo], color='red', label='bola vermelha - UE em movimento')\\n\\n    # Adiciona a legenda\\n    ax.legend()\\n\\n    # Salva o gráfico como uma imagem e adiciona à lista de quadros\\n    fig.canvas.draw()\\n    image = np.frombuffer(fig.canvas.tostring_rgb(), dtype='uint8')\\n    image = image.reshape(fig.canvas.get_width_height()[::-1] + (3,))\\n    frames.append(image)\\n\\n    plt.close(fig)\\n\\n# Cria um GIF a partir dos quadros com 4 vezes a velocidade original\\nimageio.mimsave('movimento.gif', frames, fps=150)\""
      ]
     },
     "execution_count": 24,
     "metadata": {},
     "output_type": "execute_result"
    }
   ],
   "source": [
    "'''import matplotlib.pyplot as plt\n",
    "import numpy as np\n",
    "import imageio\n",
    "\n",
    "# Suponha que distribuir_APs() retorne uma lista de coordenadas das APs\n",
    "aps = distribuir_APs(100)\n",
    "\n",
    "# Cria uma lista para armazenar os quadros\n",
    "frames = []\n",
    "\n",
    "# Calcula as coordenadas do usuário uma vez antes do loop\n",
    "\n",
    "for passo in range(1000):\n",
    "    # Cria um novo gráfico\n",
    "    fig, ax = plt.subplots()\n",
    "\n",
    "    # Plota as APs como triângulos azuis apontando para cima\n",
    "    ax.scatter(*zip(*aps), color='blue', marker='^', label='triângulo azul - AP')\n",
    "\n",
    "    # Plota a posição atual do usuário como uma bola vermelha\n",
    "    ax.scatter(x_coord[passo], y_coord[passo], color='red', label='bola vermelha - UE em movimento')\n",
    "\n",
    "    # Adiciona a legenda\n",
    "    ax.legend()\n",
    "\n",
    "    # Salva o gráfico como uma imagem e adiciona à lista de quadros\n",
    "    fig.canvas.draw()\n",
    "    image = np.frombuffer(fig.canvas.tostring_rgb(), dtype='uint8')\n",
    "    image = image.reshape(fig.canvas.get_width_height()[::-1] + (3,))\n",
    "    frames.append(image)\n",
    "\n",
    "    plt.close(fig)\n",
    "\n",
    "# Cria um GIF a partir dos quadros com 4 vezes a velocidade original\n",
    "imageio.mimsave('movimento.gif', frames, fps=150)'''"
   ]
  }
 ],
 "metadata": {
  "kernelspec": {
   "display_name": "Python 3 (ipykernel)",
   "language": "python",
   "name": "python3"
  },
  "language_info": {
   "codemirror_mode": {
    "name": "ipython",
    "version": 3
   },
   "file_extension": ".py",
   "mimetype": "text/x-python",
   "name": "python",
   "nbconvert_exporter": "python",
   "pygments_lexer": "ipython3",
   "version": "3.11.5"
  }
 },
 "nbformat": 4,
 "nbformat_minor": 4
}
